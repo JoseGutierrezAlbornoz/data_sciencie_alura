{
  "nbformat": 4,
  "nbformat_minor": 0,
  "metadata": {
    "colab": {
      "provenance": [],
      "toc_visible": true
    },
    "kernelspec": {
      "name": "python3",
      "display_name": "Python 3"
    },
    "language_info": {
      "name": "python"
    }
  },
  "cells": [
    {
      "cell_type": "markdown",
      "source": [
        "### Importación de datos\n",
        "\n"
      ],
      "metadata": {
        "id": "RhEdWd9YUR6H"
      }
    },
    {
      "cell_type": "code",
      "execution_count": 59,
      "metadata": {
        "colab": {
          "base_uri": "https://localhost:8080/",
          "height": 206
        },
        "id": "T3EvaeQ_INIL",
        "outputId": "9836812f-8177-42c3-aec0-d0518a4620c5"
      },
      "outputs": [
        {
          "output_type": "execute_result",
          "data": {
            "text/plain": [
              "            Producto Categoría del Producto    Precio  Costo de envío  \\\n",
              "0  Asistente virtual           Electrónicos  164300.0          6900.0   \n",
              "1    Mesa de comedor                Muebles  192300.0          8400.0   \n",
              "2      Juego de mesa               Juguetes  209600.0         15900.0   \n",
              "3         Microondas      Electrodomésticos  757500.0         41000.0   \n",
              "4   Silla de oficina                Muebles  335200.0         20200.0   \n",
              "\n",
              "  Fecha de Compra         Vendedor Lugar de Compra  Calificación  \\\n",
              "0      16/01/2021      Pedro Gomez          Bogotá             4   \n",
              "1      18/05/2022  Beatriz Morales        Medellín             1   \n",
              "2      15/03/2021   Juan Fernandez       Cartagena             1   \n",
              "3      03/05/2022   Juan Fernandez            Cali             4   \n",
              "4      07/11/2020    Maria Alfonso        Medellín             5   \n",
              "\n",
              "       Método de pago  Cantidad de cuotas       lat       lon  \n",
              "0  Tarjeta de crédito                   8   4.60971 -74.08175  \n",
              "1  Tarjeta de crédito                   4   6.25184 -75.56359  \n",
              "2  Tarjeta de crédito                   1  10.39972 -75.51444  \n",
              "3               Nequi                   1   3.43722 -76.52250  \n",
              "4               Nequi                   1   6.25184 -75.56359  "
            ],
            "text/html": [
              "\n",
              "  <div id=\"df-52722314-1980-47b0-8e6f-a48e8dba394a\" class=\"colab-df-container\">\n",
              "    <div>\n",
              "<style scoped>\n",
              "    .dataframe tbody tr th:only-of-type {\n",
              "        vertical-align: middle;\n",
              "    }\n",
              "\n",
              "    .dataframe tbody tr th {\n",
              "        vertical-align: top;\n",
              "    }\n",
              "\n",
              "    .dataframe thead th {\n",
              "        text-align: right;\n",
              "    }\n",
              "</style>\n",
              "<table border=\"1\" class=\"dataframe\">\n",
              "  <thead>\n",
              "    <tr style=\"text-align: right;\">\n",
              "      <th></th>\n",
              "      <th>Producto</th>\n",
              "      <th>Categoría del Producto</th>\n",
              "      <th>Precio</th>\n",
              "      <th>Costo de envío</th>\n",
              "      <th>Fecha de Compra</th>\n",
              "      <th>Vendedor</th>\n",
              "      <th>Lugar de Compra</th>\n",
              "      <th>Calificación</th>\n",
              "      <th>Método de pago</th>\n",
              "      <th>Cantidad de cuotas</th>\n",
              "      <th>lat</th>\n",
              "      <th>lon</th>\n",
              "    </tr>\n",
              "  </thead>\n",
              "  <tbody>\n",
              "    <tr>\n",
              "      <th>0</th>\n",
              "      <td>Asistente virtual</td>\n",
              "      <td>Electrónicos</td>\n",
              "      <td>164300.0</td>\n",
              "      <td>6900.0</td>\n",
              "      <td>16/01/2021</td>\n",
              "      <td>Pedro Gomez</td>\n",
              "      <td>Bogotá</td>\n",
              "      <td>4</td>\n",
              "      <td>Tarjeta de crédito</td>\n",
              "      <td>8</td>\n",
              "      <td>4.60971</td>\n",
              "      <td>-74.08175</td>\n",
              "    </tr>\n",
              "    <tr>\n",
              "      <th>1</th>\n",
              "      <td>Mesa de comedor</td>\n",
              "      <td>Muebles</td>\n",
              "      <td>192300.0</td>\n",
              "      <td>8400.0</td>\n",
              "      <td>18/05/2022</td>\n",
              "      <td>Beatriz Morales</td>\n",
              "      <td>Medellín</td>\n",
              "      <td>1</td>\n",
              "      <td>Tarjeta de crédito</td>\n",
              "      <td>4</td>\n",
              "      <td>6.25184</td>\n",
              "      <td>-75.56359</td>\n",
              "    </tr>\n",
              "    <tr>\n",
              "      <th>2</th>\n",
              "      <td>Juego de mesa</td>\n",
              "      <td>Juguetes</td>\n",
              "      <td>209600.0</td>\n",
              "      <td>15900.0</td>\n",
              "      <td>15/03/2021</td>\n",
              "      <td>Juan Fernandez</td>\n",
              "      <td>Cartagena</td>\n",
              "      <td>1</td>\n",
              "      <td>Tarjeta de crédito</td>\n",
              "      <td>1</td>\n",
              "      <td>10.39972</td>\n",
              "      <td>-75.51444</td>\n",
              "    </tr>\n",
              "    <tr>\n",
              "      <th>3</th>\n",
              "      <td>Microondas</td>\n",
              "      <td>Electrodomésticos</td>\n",
              "      <td>757500.0</td>\n",
              "      <td>41000.0</td>\n",
              "      <td>03/05/2022</td>\n",
              "      <td>Juan Fernandez</td>\n",
              "      <td>Cali</td>\n",
              "      <td>4</td>\n",
              "      <td>Nequi</td>\n",
              "      <td>1</td>\n",
              "      <td>3.43722</td>\n",
              "      <td>-76.52250</td>\n",
              "    </tr>\n",
              "    <tr>\n",
              "      <th>4</th>\n",
              "      <td>Silla de oficina</td>\n",
              "      <td>Muebles</td>\n",
              "      <td>335200.0</td>\n",
              "      <td>20200.0</td>\n",
              "      <td>07/11/2020</td>\n",
              "      <td>Maria Alfonso</td>\n",
              "      <td>Medellín</td>\n",
              "      <td>5</td>\n",
              "      <td>Nequi</td>\n",
              "      <td>1</td>\n",
              "      <td>6.25184</td>\n",
              "      <td>-75.56359</td>\n",
              "    </tr>\n",
              "  </tbody>\n",
              "</table>\n",
              "</div>\n",
              "    <div class=\"colab-df-buttons\">\n",
              "\n",
              "  <div class=\"colab-df-container\">\n",
              "    <button class=\"colab-df-convert\" onclick=\"convertToInteractive('df-52722314-1980-47b0-8e6f-a48e8dba394a')\"\n",
              "            title=\"Convert this dataframe to an interactive table.\"\n",
              "            style=\"display:none;\">\n",
              "\n",
              "  <svg xmlns=\"http://www.w3.org/2000/svg\" height=\"24px\" viewBox=\"0 -960 960 960\">\n",
              "    <path d=\"M120-120v-720h720v720H120Zm60-500h600v-160H180v160Zm220 220h160v-160H400v160Zm0 220h160v-160H400v160ZM180-400h160v-160H180v160Zm440 0h160v-160H620v160ZM180-180h160v-160H180v160Zm440 0h160v-160H620v160Z\"/>\n",
              "  </svg>\n",
              "    </button>\n",
              "\n",
              "  <style>\n",
              "    .colab-df-container {\n",
              "      display:flex;\n",
              "      gap: 12px;\n",
              "    }\n",
              "\n",
              "    .colab-df-convert {\n",
              "      background-color: #E8F0FE;\n",
              "      border: none;\n",
              "      border-radius: 50%;\n",
              "      cursor: pointer;\n",
              "      display: none;\n",
              "      fill: #1967D2;\n",
              "      height: 32px;\n",
              "      padding: 0 0 0 0;\n",
              "      width: 32px;\n",
              "    }\n",
              "\n",
              "    .colab-df-convert:hover {\n",
              "      background-color: #E2EBFA;\n",
              "      box-shadow: 0px 1px 2px rgba(60, 64, 67, 0.3), 0px 1px 3px 1px rgba(60, 64, 67, 0.15);\n",
              "      fill: #174EA6;\n",
              "    }\n",
              "\n",
              "    .colab-df-buttons div {\n",
              "      margin-bottom: 4px;\n",
              "    }\n",
              "\n",
              "    [theme=dark] .colab-df-convert {\n",
              "      background-color: #3B4455;\n",
              "      fill: #D2E3FC;\n",
              "    }\n",
              "\n",
              "    [theme=dark] .colab-df-convert:hover {\n",
              "      background-color: #434B5C;\n",
              "      box-shadow: 0px 1px 3px 1px rgba(0, 0, 0, 0.15);\n",
              "      filter: drop-shadow(0px 1px 2px rgba(0, 0, 0, 0.3));\n",
              "      fill: #FFFFFF;\n",
              "    }\n",
              "  </style>\n",
              "\n",
              "    <script>\n",
              "      const buttonEl =\n",
              "        document.querySelector('#df-52722314-1980-47b0-8e6f-a48e8dba394a button.colab-df-convert');\n",
              "      buttonEl.style.display =\n",
              "        google.colab.kernel.accessAllowed ? 'block' : 'none';\n",
              "\n",
              "      async function convertToInteractive(key) {\n",
              "        const element = document.querySelector('#df-52722314-1980-47b0-8e6f-a48e8dba394a');\n",
              "        const dataTable =\n",
              "          await google.colab.kernel.invokeFunction('convertToInteractive',\n",
              "                                                    [key], {});\n",
              "        if (!dataTable) return;\n",
              "\n",
              "        const docLinkHtml = 'Like what you see? Visit the ' +\n",
              "          '<a target=\"_blank\" href=https://colab.research.google.com/notebooks/data_table.ipynb>data table notebook</a>'\n",
              "          + ' to learn more about interactive tables.';\n",
              "        element.innerHTML = '';\n",
              "        dataTable['output_type'] = 'display_data';\n",
              "        await google.colab.output.renderOutput(dataTable, element);\n",
              "        const docLink = document.createElement('div');\n",
              "        docLink.innerHTML = docLinkHtml;\n",
              "        element.appendChild(docLink);\n",
              "      }\n",
              "    </script>\n",
              "  </div>\n",
              "\n",
              "\n",
              "    <div id=\"df-aed713e4-7985-4009-85f3-e95472ba7929\">\n",
              "      <button class=\"colab-df-quickchart\" onclick=\"quickchart('df-aed713e4-7985-4009-85f3-e95472ba7929')\"\n",
              "                title=\"Suggest charts\"\n",
              "                style=\"display:none;\">\n",
              "\n",
              "<svg xmlns=\"http://www.w3.org/2000/svg\" height=\"24px\"viewBox=\"0 0 24 24\"\n",
              "     width=\"24px\">\n",
              "    <g>\n",
              "        <path d=\"M19 3H5c-1.1 0-2 .9-2 2v14c0 1.1.9 2 2 2h14c1.1 0 2-.9 2-2V5c0-1.1-.9-2-2-2zM9 17H7v-7h2v7zm4 0h-2V7h2v10zm4 0h-2v-4h2v4z\"/>\n",
              "    </g>\n",
              "</svg>\n",
              "      </button>\n",
              "\n",
              "<style>\n",
              "  .colab-df-quickchart {\n",
              "      --bg-color: #E8F0FE;\n",
              "      --fill-color: #1967D2;\n",
              "      --hover-bg-color: #E2EBFA;\n",
              "      --hover-fill-color: #174EA6;\n",
              "      --disabled-fill-color: #AAA;\n",
              "      --disabled-bg-color: #DDD;\n",
              "  }\n",
              "\n",
              "  [theme=dark] .colab-df-quickchart {\n",
              "      --bg-color: #3B4455;\n",
              "      --fill-color: #D2E3FC;\n",
              "      --hover-bg-color: #434B5C;\n",
              "      --hover-fill-color: #FFFFFF;\n",
              "      --disabled-bg-color: #3B4455;\n",
              "      --disabled-fill-color: #666;\n",
              "  }\n",
              "\n",
              "  .colab-df-quickchart {\n",
              "    background-color: var(--bg-color);\n",
              "    border: none;\n",
              "    border-radius: 50%;\n",
              "    cursor: pointer;\n",
              "    display: none;\n",
              "    fill: var(--fill-color);\n",
              "    height: 32px;\n",
              "    padding: 0;\n",
              "    width: 32px;\n",
              "  }\n",
              "\n",
              "  .colab-df-quickchart:hover {\n",
              "    background-color: var(--hover-bg-color);\n",
              "    box-shadow: 0 1px 2px rgba(60, 64, 67, 0.3), 0 1px 3px 1px rgba(60, 64, 67, 0.15);\n",
              "    fill: var(--button-hover-fill-color);\n",
              "  }\n",
              "\n",
              "  .colab-df-quickchart-complete:disabled,\n",
              "  .colab-df-quickchart-complete:disabled:hover {\n",
              "    background-color: var(--disabled-bg-color);\n",
              "    fill: var(--disabled-fill-color);\n",
              "    box-shadow: none;\n",
              "  }\n",
              "\n",
              "  .colab-df-spinner {\n",
              "    border: 2px solid var(--fill-color);\n",
              "    border-color: transparent;\n",
              "    border-bottom-color: var(--fill-color);\n",
              "    animation:\n",
              "      spin 1s steps(1) infinite;\n",
              "  }\n",
              "\n",
              "  @keyframes spin {\n",
              "    0% {\n",
              "      border-color: transparent;\n",
              "      border-bottom-color: var(--fill-color);\n",
              "      border-left-color: var(--fill-color);\n",
              "    }\n",
              "    20% {\n",
              "      border-color: transparent;\n",
              "      border-left-color: var(--fill-color);\n",
              "      border-top-color: var(--fill-color);\n",
              "    }\n",
              "    30% {\n",
              "      border-color: transparent;\n",
              "      border-left-color: var(--fill-color);\n",
              "      border-top-color: var(--fill-color);\n",
              "      border-right-color: var(--fill-color);\n",
              "    }\n",
              "    40% {\n",
              "      border-color: transparent;\n",
              "      border-right-color: var(--fill-color);\n",
              "      border-top-color: var(--fill-color);\n",
              "    }\n",
              "    60% {\n",
              "      border-color: transparent;\n",
              "      border-right-color: var(--fill-color);\n",
              "    }\n",
              "    80% {\n",
              "      border-color: transparent;\n",
              "      border-right-color: var(--fill-color);\n",
              "      border-bottom-color: var(--fill-color);\n",
              "    }\n",
              "    90% {\n",
              "      border-color: transparent;\n",
              "      border-bottom-color: var(--fill-color);\n",
              "    }\n",
              "  }\n",
              "</style>\n",
              "\n",
              "      <script>\n",
              "        async function quickchart(key) {\n",
              "          const quickchartButtonEl =\n",
              "            document.querySelector('#' + key + ' button');\n",
              "          quickchartButtonEl.disabled = true;  // To prevent multiple clicks.\n",
              "          quickchartButtonEl.classList.add('colab-df-spinner');\n",
              "          try {\n",
              "            const charts = await google.colab.kernel.invokeFunction(\n",
              "                'suggestCharts', [key], {});\n",
              "          } catch (error) {\n",
              "            console.error('Error during call to suggestCharts:', error);\n",
              "          }\n",
              "          quickchartButtonEl.classList.remove('colab-df-spinner');\n",
              "          quickchartButtonEl.classList.add('colab-df-quickchart-complete');\n",
              "        }\n",
              "        (() => {\n",
              "          let quickchartButtonEl =\n",
              "            document.querySelector('#df-aed713e4-7985-4009-85f3-e95472ba7929 button');\n",
              "          quickchartButtonEl.style.display =\n",
              "            google.colab.kernel.accessAllowed ? 'block' : 'none';\n",
              "        })();\n",
              "      </script>\n",
              "    </div>\n",
              "\n",
              "    </div>\n",
              "  </div>\n"
            ],
            "application/vnd.google.colaboratory.intrinsic+json": {
              "type": "dataframe",
              "variable_name": "tienda1",
              "summary": "{\n  \"name\": \"tienda1\",\n  \"rows\": 2359,\n  \"fields\": [\n    {\n      \"column\": \"Producto\",\n      \"properties\": {\n        \"dtype\": \"category\",\n        \"num_unique_values\": 51,\n        \"samples\": [\n          \"Guitarra ac\\u00fastica\",\n          \"Bal\\u00f3n de baloncesto\",\n          \"Smartwatch\"\n        ],\n        \"semantic_type\": \"\",\n        \"description\": \"\"\n      }\n    },\n    {\n      \"column\": \"Categor\\u00eda del Producto\",\n      \"properties\": {\n        \"dtype\": \"category\",\n        \"num_unique_values\": 8,\n        \"samples\": [\n          \"Muebles\",\n          \"Deportes y diversi\\u00f3n\",\n          \"Electr\\u00f3nicos\"\n        ],\n        \"semantic_type\": \"\",\n        \"description\": \"\"\n      }\n    },\n    {\n      \"column\": \"Precio\",\n      \"properties\": {\n        \"dtype\": \"number\",\n        \"std\": 614686.7653873172,\n        \"min\": 7600.0,\n        \"max\": 2977000.0,\n        \"num_unique_values\": 1937,\n        \"samples\": [\n          2499400.0,\n          14800.0,\n          80500.0\n        ],\n        \"semantic_type\": \"\",\n        \"description\": \"\"\n      }\n    },\n    {\n      \"column\": \"Costo de env\\u00edo\",\n      \"properties\": {\n        \"dtype\": \"number\",\n        \"std\": 32860.0017825605,\n        \"min\": 0.0,\n        \"max\": 160800.0,\n        \"num_unique_values\": 753,\n        \"samples\": [\n          117800.0,\n          54700.0,\n          45600.0\n        ],\n        \"semantic_type\": \"\",\n        \"description\": \"\"\n      }\n    },\n    {\n      \"column\": \"Fecha de Compra\",\n      \"properties\": {\n        \"dtype\": \"object\",\n        \"num_unique_values\": 1018,\n        \"samples\": [\n          \"15/09/2022\",\n          \"03/06/2020\",\n          \"06/11/2021\"\n        ],\n        \"semantic_type\": \"\",\n        \"description\": \"\"\n      }\n    },\n    {\n      \"column\": \"Vendedor\",\n      \"properties\": {\n        \"dtype\": \"category\",\n        \"num_unique_values\": 14,\n        \"samples\": [\n          \"Juliana Costa\",\n          \"Mariana Herrera\",\n          \"Pedro Gomez\"\n        ],\n        \"semantic_type\": \"\",\n        \"description\": \"\"\n      }\n    },\n    {\n      \"column\": \"Lugar de Compra\",\n      \"properties\": {\n        \"dtype\": \"category\",\n        \"num_unique_values\": 19,\n        \"samples\": [\n          \"Bogot\\u00e1\",\n          \"Pereira\",\n          \"Neiva\"\n        ],\n        \"semantic_type\": \"\",\n        \"description\": \"\"\n      }\n    },\n    {\n      \"column\": \"Calificaci\\u00f3n\",\n      \"properties\": {\n        \"dtype\": \"number\",\n        \"std\": 1,\n        \"min\": 1,\n        \"max\": 5,\n        \"num_unique_values\": 5,\n        \"samples\": [\n          1,\n          2,\n          5\n        ],\n        \"semantic_type\": \"\",\n        \"description\": \"\"\n      }\n    },\n    {\n      \"column\": \"M\\u00e9todo de pago\",\n      \"properties\": {\n        \"dtype\": \"category\",\n        \"num_unique_values\": 4,\n        \"samples\": [\n          \"Nequi\",\n          \"Tarjeta de d\\u00e9bito\",\n          \"Tarjeta de cr\\u00e9dito\"\n        ],\n        \"semantic_type\": \"\",\n        \"description\": \"\"\n      }\n    },\n    {\n      \"column\": \"Cantidad de cuotas\",\n      \"properties\": {\n        \"dtype\": \"number\",\n        \"std\": 2,\n        \"min\": 1,\n        \"max\": 24,\n        \"num_unique_values\": 15,\n        \"samples\": [\n          7,\n          14,\n          8\n        ],\n        \"semantic_type\": \"\",\n        \"description\": \"\"\n      }\n    },\n    {\n      \"column\": \"lat\",\n      \"properties\": {\n        \"dtype\": \"number\",\n        \"std\": 2.2874452492678627,\n        \"min\": -4.21528,\n        \"max\": 11.54444,\n        \"num_unique_values\": 19,\n        \"samples\": [\n          4.60971,\n          4.81333,\n          2.9273\n        ],\n        \"semantic_type\": \"\",\n        \"description\": \"\"\n      }\n    },\n    {\n      \"column\": \"lon\",\n      \"properties\": {\n        \"dtype\": \"number\",\n        \"std\": 1.2178272727088486,\n        \"min\": -77.28111,\n        \"max\": -67.9239,\n        \"num_unique_values\": 19,\n        \"samples\": [\n          -74.08175,\n          -75.69611,\n          -75.28189\n        ],\n        \"semantic_type\": \"\",\n        \"description\": \"\"\n      }\n    }\n  ]\n}"
            }
          },
          "metadata": {},
          "execution_count": 59
        }
      ],
      "source": [
        "import pandas as pd\n",
        "\n",
        "url = \"https://raw.githubusercontent.com/alura-es-cursos/challenge1-data-science-latam/refs/heads/main/base-de-datos-challenge1-latam/tienda_1%20.csv\"\n",
        "url2 = \"https://raw.githubusercontent.com/alura-es-cursos/challenge1-data-science-latam/refs/heads/main/base-de-datos-challenge1-latam/tienda_2.csv\"\n",
        "url3 = \"https://raw.githubusercontent.com/alura-es-cursos/challenge1-data-science-latam/refs/heads/main/base-de-datos-challenge1-latam/tienda_3.csv\"\n",
        "url4 = \"https://raw.githubusercontent.com/alura-es-cursos/challenge1-data-science-latam/refs/heads/main/base-de-datos-challenge1-latam/tienda_4.csv\"\n",
        "\n",
        "tienda1= pd.read_csv(url)\n",
        "tienda2 = pd.read_csv(url2)\n",
        "tienda3 = pd.read_csv(url3)\n",
        "tienda4 = pd.read_csv(url4)\n",
        "\n",
        "tienda1.head()\n"
      ]
    },
    {
      "cell_type": "markdown",
      "source": [
        "#1. Análisis de facturación\n",
        "\n"
      ],
      "metadata": {
        "id": "X62IW3KFUIYm"
      }
    },
    {
      "cell_type": "code",
      "source": [
        "def suma(t):\n",
        "          s= int(t.sum())\n",
        "          return s\n",
        "\n",
        "\n"
      ],
      "metadata": {
        "id": "Atv3bfeFYS21"
      },
      "execution_count": 60,
      "outputs": []
    },
    {
      "cell_type": "code",
      "source": [
        "sventa1= suma(tienda1[\"Precio\"])\n",
        "sventa2= suma(tienda2[\"Precio\"])\n",
        "sventa3= suma(tienda3[\"Precio\"])\n",
        "sventa4= suma(tienda4[\"Precio\"])\n",
        "print(f\" Ingreso total de tienda Numero 1 es : {sventa1:,.0f}\")\n",
        "print(f\" Ingreso total de tienda Numero 2 es : {sventa2:,.0f}\")\n",
        "print(f\" Ingreso total de tienda Numero 3 es : {sventa3:,.0f}\")\n",
        "print(f\" Ingreso total de tienda Numero 4 es : {sventa4:,.0f}\")\n",
        "\n",
        "\n"
      ],
      "metadata": {
        "id": "qQV7QYJg36xU",
        "colab": {
          "base_uri": "https://localhost:8080/"
        },
        "outputId": "861f111f-a2cc-4962-ff52-6b4df265613e"
      },
      "execution_count": 132,
      "outputs": [
        {
          "output_type": "stream",
          "name": "stdout",
          "text": [
            " Ingreso total de tienda Numero 1 es : 1,150,880,400\n",
            " Ingreso total de tienda Numero 2 es : 1,116,343,500\n",
            " Ingreso total de tienda Numero 3 es : 1,098,019,600\n",
            " Ingreso total de tienda Numero 4 es : 1,038,375,700\n"
          ]
        }
      ]
    },
    {
      "cell_type": "markdown",
      "source": [
        "# 2. Ventas por categoría"
      ],
      "metadata": {
        "id": "2V_vcAPzWZmR"
      }
    },
    {
      "cell_type": "code",
      "source": [
        "suma1 = tienda1.groupby(\"Categoría del Producto\")\n",
        "s1= suma1[\"Categoría del Producto\"].count()\n",
        "s1.idxmax\n",
        "print(f\"cantidad de productos vendidos por categoría TIENDA 1\\n\\n{s1}\")\n",
        "print(f\"La categoria mas Vendida en Tienda 1 es \\033[1m{s1.idxmax()}\\033[0m , con  \\033[1m{max(s1)}\\033[0m.\")"
      ],
      "metadata": {
        "colab": {
          "base_uri": "https://localhost:8080/"
        },
        "id": "zQeRC9vfWi1J",
        "outputId": "624d9b17-ee2d-482f-f73f-505a816f596b"
      },
      "execution_count": 66,
      "outputs": [
        {
          "output_type": "stream",
          "name": "stdout",
          "text": [
            "cantidad de productos vendidos por categoría TIENDA 1\n",
            "\n",
            "Categoría del Producto\n",
            "Artículos para el hogar    171\n",
            "Deportes y diversión       284\n",
            "Electrodomésticos          312\n",
            "Electrónicos               448\n",
            "Instrumentos musicales     182\n",
            "Juguetes                   324\n",
            "Libros                     173\n",
            "Muebles                    465\n",
            "Name: Categoría del Producto, dtype: int64\n",
            "La categoria mas Vendida en Tienda 1 es \u001b[1mMuebles\u001b[0m , con  \u001b[1m465\u001b[0m.\n"
          ]
        }
      ]
    },
    {
      "cell_type": "code",
      "source": [
        "\n",
        "suma2 = tienda2.groupby(\"Categoría del Producto\")\n",
        "s2= suma2[\"Categoría del Producto\"].count()\n",
        "s2.idxmax\n",
        "print(f\"cantidad de productos vendidos por categoría TIENDA 2\\n\\n{s2}\")\n",
        "print(f\"La categoria mas Vendida en Tienda 2 es \\033[1m{s2.idxmax()}\\033[0m , con  \\033[1m{max(s2)}\\033[0m.\")\n",
        "\n",
        "\n"
      ],
      "metadata": {
        "id": "A34YupIuYhfF",
        "colab": {
          "base_uri": "https://localhost:8080/"
        },
        "outputId": "895a0614-1ab4-498f-ab8b-deb13753e50e"
      },
      "execution_count": 67,
      "outputs": [
        {
          "output_type": "stream",
          "name": "stdout",
          "text": [
            "cantidad de productos vendidos por categoría TIENDA 2\n",
            "\n",
            "Categoría del Producto\n",
            "Artículos para el hogar    181\n",
            "Deportes y diversión       275\n",
            "Electrodomésticos          305\n",
            "Electrónicos               422\n",
            "Instrumentos musicales     224\n",
            "Juguetes                   313\n",
            "Libros                     197\n",
            "Muebles                    442\n",
            "Name: Categoría del Producto, dtype: int64\n",
            "La categoria mas Vendida en Tienda 2 es \u001b[1mMuebles\u001b[0m , con  \u001b[1m442\u001b[0m.\n"
          ]
        }
      ]
    },
    {
      "cell_type": "code",
      "source": [
        "suma3 = tienda3.groupby(\"Categoría del Producto\")\n",
        "s3= suma3[\"Categoría del Producto\"].count()\n",
        "\n",
        "print(f\"cantidad de productos vendidos por categoría TIENDA 3\\n\\n{s3}\")\n",
        "print(f\"La categoria mas Vendida en Tienda 3 es \\033[1m{s3.idxmax()}\\033[0m , con  \\033[1m{max(s3)}\\033[0m.\")"
      ],
      "metadata": {
        "id": "yZR6cOjXYSk1",
        "colab": {
          "base_uri": "https://localhost:8080/"
        },
        "outputId": "4f2f2741-f9ad-4ec0-c76a-94e21d109c87"
      },
      "execution_count": 68,
      "outputs": [
        {
          "output_type": "stream",
          "name": "stdout",
          "text": [
            "cantidad de productos vendidos por categoría TIENDA 3\n",
            "\n",
            "Categoría del Producto\n",
            "Artículos para el hogar    177\n",
            "Deportes y diversión       277\n",
            "Electrodomésticos          278\n",
            "Electrónicos               451\n",
            "Instrumentos musicales     177\n",
            "Juguetes                   315\n",
            "Libros                     185\n",
            "Muebles                    499\n",
            "Name: Categoría del Producto, dtype: int64\n",
            "La categoria mas Vendida en Tienda 3 es \u001b[1mMuebles\u001b[0m , con  \u001b[1m499\u001b[0m.\n"
          ]
        }
      ]
    },
    {
      "cell_type": "code",
      "source": [
        "suma4 = tienda4.groupby(\"Categoría del Producto\")\n",
        "s4= suma4[\"Categoría del Producto\"].count()\n",
        "\n",
        "print(f\"cantidad de productos vendidos por categoría TIENDA 4\\n\\n{s4}\")\n",
        "print(f\"La categoria mas Vendida en Tienda 4 es \\033[1m{s4.idxmax()}\\033[0m , con  \\033[1m{max(s4)}\\033[0m.\")\n",
        "\n"
      ],
      "metadata": {
        "colab": {
          "base_uri": "https://localhost:8080/"
        },
        "id": "4R90Q5UDelQE",
        "outputId": "fb1d02a2-a70d-44d0-f245-f3657bb359c9"
      },
      "execution_count": 69,
      "outputs": [
        {
          "output_type": "stream",
          "name": "stdout",
          "text": [
            "cantidad de productos vendidos por categoría TIENDA 4\n",
            "\n",
            "Categoría del Producto\n",
            "Artículos para el hogar    201\n",
            "Deportes y diversión       277\n",
            "Electrodomésticos          254\n",
            "Electrónicos               451\n",
            "Instrumentos musicales     170\n",
            "Juguetes                   338\n",
            "Libros                     187\n",
            "Muebles                    480\n",
            "Name: Categoría del Producto, dtype: int64\n",
            "La categoria mas Vendida en Tienda 4 es \u001b[1mMuebles\u001b[0m , con  \u001b[1m480\u001b[0m.\n"
          ]
        }
      ]
    },
    {
      "cell_type": "markdown",
      "source": [
        "# 3. Calificación promedio de la tienda\n"
      ],
      "metadata": {
        "id": "Rq6tU_xSY3jk"
      }
    },
    {
      "cell_type": "code",
      "source": [
        "def promedio(t):\n",
        "               suma= int(t.sum())\n",
        "\n",
        "\n",
        "               cuenta= int(t.count())\n",
        "\n",
        "               cal = suma / cuenta\n",
        "\n",
        "               return cal"
      ],
      "metadata": {
        "id": "PmkswCeAWSOw"
      },
      "execution_count": 113,
      "outputs": []
    },
    {
      "cell_type": "code",
      "source": [
        "promedio_tienda1 = promedio(tienda1[\"Calificación\"])\n",
        "promedio_tienda2 = promedio(tienda2[\"Calificación\"])\n",
        "promedio_tienda3 = promedio(tienda3[\"Calificación\"])\n",
        "promedio_tienda4 = promedio(tienda4[\"Calificación\"])\n",
        "\n",
        "print(f\" Promedio de Calificacion de tienda Numero 1 es : {round(promedio_tienda1,2)}\")\n",
        "print(f\" Promedio de Calificacion de tienda Numero 2 es : {round(promedio_tienda2,2)}\")\n",
        "print(f\" Promedio de Calificacion de tienda Numero 3 es : {round(promedio_tienda3,2)}\")\n",
        "print(f\" Promedio de Calificacion de tienda Numero 4 es : {round(promedio_tienda4,2)}\")"
      ],
      "metadata": {
        "colab": {
          "base_uri": "https://localhost:8080/"
        },
        "id": "yuhObsNeW-q7",
        "outputId": "e4b84711-582f-4fba-f89d-179c2539878d"
      },
      "execution_count": 115,
      "outputs": [
        {
          "output_type": "stream",
          "name": "stdout",
          "text": [
            " Promedio de Calificacion de tienda Numero 1 es : 3.98\n",
            " Promedio de Calificacion de tienda Numero 2 es : 4.04\n",
            " Promedio de Calificacion de tienda Numero 3 es : 4.05\n",
            " Promedio de Calificacion de tienda Numero 4 es : 4.0\n"
          ]
        }
      ]
    },
    {
      "cell_type": "markdown",
      "source": [
        "# 4. Productos más y menos vendidos"
      ],
      "metadata": {
        "id": "DmNp1KPBZCm-"
      }
    },
    {
      "cell_type": "code",
      "source": [
        "suma1 = tienda1.groupby(\"Producto\")\n",
        "s1= suma1[\"Producto\"].count()\n",
        "#print(s1)\n",
        "print(f\"El Producto mas Vendido en Tienda 1 es \\033[1m{s1.idxmax()}\\033[0m , con  \\033[1m{max(s1)}\\033[0m.\")\n",
        "print(f\"El Producto menos Vendido en Tienda 1 es \\033[1m{s1.idxmin()}\\033[0m , con  \\033[1m{min(s1)}\\033[0m.\")"
      ],
      "metadata": {
        "id": "tGHE_VeQzq_B",
        "colab": {
          "base_uri": "https://localhost:8080/"
        },
        "outputId": "54b8d1b4-af06-4760-e2d5-2eb485ae365a"
      },
      "execution_count": 116,
      "outputs": [
        {
          "output_type": "stream",
          "name": "stdout",
          "text": [
            "El Producto mas Vendido en Tienda 1 es \u001b[1mArmario\u001b[0m , con  \u001b[1m60\u001b[0m.\n",
            "El Producto menos Vendido en Tienda 1 es \u001b[1mAuriculares con micrófono\u001b[0m , con  \u001b[1m33\u001b[0m.\n"
          ]
        }
      ]
    },
    {
      "cell_type": "code",
      "source": [
        "suma2 = tienda2.groupby(\"Producto\")\n",
        "s2= suma2[\"Producto\"].count()\n",
        "#print(s2)\n",
        "print(f\"El Producto mas Vendido en Tienda 2 es \\033[1m{s2.idxmax()}\\033[0m , con  \\033[1m{max(s2)}\\033[0m.\")\n",
        "print(f\"El Producto menos Vendido en Tienda 2 es \\033[1m{s2.idxmin()}\\033[0m , con  \\033[1m{min(s2)}\\033[0m.\")"
      ],
      "metadata": {
        "colab": {
          "base_uri": "https://localhost:8080/"
        },
        "id": "9ROrPsMTzqvy",
        "outputId": "91953139-56ba-4cec-904e-32b5a0501872"
      },
      "execution_count": 133,
      "outputs": [
        {
          "output_type": "stream",
          "name": "stdout",
          "text": [
            "El Producto mas Vendido en Tienda 2 es \u001b[1mIniciando en programación\u001b[0m , con  \u001b[1m65\u001b[0m.\n",
            "El Producto menos Vendido en Tienda 2 es \u001b[1mJuego de mesa\u001b[0m , con  \u001b[1m32\u001b[0m.\n"
          ]
        }
      ]
    },
    {
      "cell_type": "code",
      "source": [
        "suma3 = tienda3.groupby(\"Producto\")\n",
        "s3= suma3[\"Producto\"].count()\n",
        "#print(s3)\n",
        "print(f\"El Producto mas Vendido en Tienda 3 es \\033[1m{s3.idxmax()}\\033[0m , con  \\033[1m{max(s3)}\\033[0m.\")\n",
        "print(f\"El Producto menos Vendido en Tienda 3 es \\033[1m{s3.idxmin()}\\033[0m , con  \\033[1m{min(s3)}\\033[0m.\")"
      ],
      "metadata": {
        "colab": {
          "base_uri": "https://localhost:8080/"
        },
        "id": "DpNb_tGozqWf",
        "outputId": "5fd825dc-6a67-4616-818c-5ebf8d4df7a8"
      },
      "execution_count": 134,
      "outputs": [
        {
          "output_type": "stream",
          "name": "stdout",
          "text": [
            "El Producto mas Vendido en Tienda 3 es \u001b[1mKit de bancas\u001b[0m , con  \u001b[1m57\u001b[0m.\n",
            "El Producto menos Vendido en Tienda 3 es \u001b[1mBloques de construcción\u001b[0m , con  \u001b[1m35\u001b[0m.\n"
          ]
        }
      ]
    },
    {
      "cell_type": "code",
      "source": [
        "suma4 = tienda4.groupby(\"Producto\")\n",
        "s4= suma4[\"Producto\"].count()\n",
        "#print(s4)\n",
        "print(f\"El Producto mas Vendido en Tienda 4 es \\033[1m{s4.idxmax()}\\033[0m , con  \\033[1m{max(s4)}\\033[0m.\")\n",
        "print(f\"El Producto menos Vendido en Tienda 4 es \\033[1m{s4.idxmin()}\\033[0m , con  \\033[1m{min(s4)}\\033[0m.\")"
      ],
      "metadata": {
        "id": "qoyjqijQZHfF",
        "colab": {
          "base_uri": "https://localhost:8080/"
        },
        "outputId": "e2369070-a287-4253-f09e-3032c38ace0e"
      },
      "execution_count": 103,
      "outputs": [
        {
          "output_type": "stream",
          "name": "stdout",
          "text": [
            "El Producto mas Vendido en Tienda 4 es \u001b[1mCama box\u001b[0m , con  \u001b[1m62\u001b[0m.\n",
            "El Producto menos Vendido en Tienda 4 es \u001b[1mGuitarra eléctrica\u001b[0m , con  \u001b[1m33\u001b[0m.\n"
          ]
        }
      ]
    },
    {
      "cell_type": "code",
      "source": [],
      "metadata": {
        "id": "0Sw3sd4IZIGW"
      },
      "execution_count": null,
      "outputs": []
    },
    {
      "cell_type": "markdown",
      "source": [
        "# 5. Envío promedio por tienda"
      ],
      "metadata": {
        "id": "Fl0cGi3bZKqU"
      }
    },
    {
      "cell_type": "code",
      "source": [
        "def promedio(t):\n",
        "               suma= int(t.sum())\n",
        "\n",
        "\n",
        "               cuenta= int(t.count())\n",
        "\n",
        "               cal = suma / cuenta\n",
        "\n",
        "               return cal\n"
      ],
      "metadata": {
        "id": "S2JeaCykZNy9"
      },
      "execution_count": null,
      "outputs": []
    },
    {
      "cell_type": "code",
      "source": [
        "pt1= promedio(tienda1[\"Costo de envío\"])\n",
        "pt2= promedio(tienda2[\"Costo de envío\"])\n",
        "pt3= promedio(tienda3[\"Costo de envío\"])\n",
        "pt4= promedio(tienda4[\"Costo de envío\"])\n",
        "\n",
        "\n",
        "print(f\"El envio promedio en Tienda 1 es \\033[1m{round(pt1)}\\033[0m.\")\n",
        "print(f\"El envio promedio en Tienda 2 es \\033[1m{round(pt2)}\\033[0m.\")\n",
        "print(f\"El envio promedio en Tienda 3 es \\033[1m{round(pt3)}\\033[0m.\")\n",
        "print(f\"El envio promedio en Tienda 4 es \\033[1m{round(pt4)}\\033[0m.\")\n"
      ],
      "metadata": {
        "colab": {
          "base_uri": "https://localhost:8080/"
        },
        "id": "nyQFNY_2JRpe",
        "outputId": "b98d226f-8be8-4074-910d-9877d7aca330"
      },
      "execution_count": 109,
      "outputs": [
        {
          "output_type": "stream",
          "name": "stdout",
          "text": [
            "El envio promedio en Tienda 1 es \u001b[1m26019\u001b[0m.\n",
            "El envio promedio en Tienda 2 es \u001b[1m25216\u001b[0m.\n",
            "El envio promedio en Tienda 3 es \u001b[1m24806\u001b[0m.\n",
            "El envio promedio en Tienda 4 es \u001b[1m23459\u001b[0m.\n"
          ]
        }
      ]
    },
    {
      "cell_type": "markdown",
      "source": [
        "# Graficos"
      ],
      "metadata": {
        "id": "mpYYN6kvN2yo"
      }
    },
    {
      "cell_type": "code",
      "source": [
        "import matplotlib.pyplot as plt\n",
        "\n",
        "suma4 = tienda4.groupby(\"Categoría del Producto\")\n",
        "s4 = suma4[\"Categoría del Producto\"].count()\n",
        "\n",
        "plt.figure(figsize=(6,6))\n",
        "plt.pie(s4,labels=s4.index,autopct='%1.1f%%',   # Mostrar porcentajes\n",
        "    startangle=95,       # Rotar inicio\n",
        "    colors=plt.cm.Paired.colors  # Paleta de colores\n",
        ")\n",
        "\n",
        "plt.title(\"Distribución de productos vendidos por categoría - TIENDA 4\")\n",
        "plt.tight_layout()\n",
        "plt.show()"
      ],
      "metadata": {
        "colab": {
          "base_uri": "https://localhost:8080/",
          "height": 522
        },
        "id": "njKaQA8qOmW9",
        "outputId": "8654bc56-e7b7-4dbe-89db-e7c882e0af36"
      },
      "execution_count": 121,
      "outputs": [
        {
          "output_type": "display_data",
          "data": {
            "text/plain": [
              "<Figure size 600x600 with 1 Axes>"
            ],
            "image/png": "[encoded data removed]"
          },
          "metadata": {}
        }
      ]
    },
    {
      "cell_type": "code",
      "source": [
        "import matplotlib.pyplot as plt\n",
        "\n",
        "\n",
        "\n",
        "\n",
        "# Nombres de las tiendas\n",
        "tiendas = ['tienda1', 'tienda2', 'tienda3', 'tienda4']\n",
        "\n",
        "promedios = [sventa1, sventa2, sventa3, sventa4]\n",
        "\n",
        "# Crear gráfico\n",
        "plt.figure(figsize=(8, 6))\n",
        "plt.bar(tiendas,promedios, color='skyblue')\n",
        "plt.title('Ingreso total por Tienda')\n",
        "plt.ylabel('Ingreso')\n",
        "plt.xlabel('Tienda')\n",
        "plt.ylim(20, max(promedios) + 30)\n",
        "\n",
        "# Mostrar valores encima de cada barra\n",
        "for i, v in enumerate(promedios):\n",
        "    plt.text(i, v , f'{v:.2f}', ha='center')\n",
        "\n",
        "plt.tight_layout()\n",
        "plt.show()"
      ],
      "metadata": {
        "colab": {
          "base_uri": "https://localhost:8080/",
          "height": 607
        },
        "id": "E7Hp-d3cNvfB",
        "outputId": "85c2efba-0202-4a98-9c3c-7ce91841ae37"
      },
      "execution_count": 117,
      "outputs": [
        {
          "output_type": "display_data",
          "data": {
            "text/plain": [
              "<Figure size 800x600 with 1 Axes>"
            ],
            "image/png": "[encoded data removed]"
          },
          "metadata": {}
        }
      ]
    },
    {
      "cell_type": "code",
      "source": [
        "import matplotlib.pyplot as plt\n",
        "\n",
        "\n",
        "tiendas = [\"Tienda 1\", \"Tienda 2\", \"Tienda 3\", \"Tienda 4\"]\n",
        "promedios = [pt1, pt2, pt3, pt4]\n",
        "\n",
        "plt.figure(figsize=(8,5))\n",
        "plt.plot(tiendas, promedios, marker=\"o\", linestyle=\"-\", color=\"blue\")\n",
        "\n",
        "\n",
        "for i, valor in enumerate(promedios):\n",
        "    plt.text(i, valor + 0.5, round(valor,2), ha=\"center\")\n",
        "\n",
        "plt.title(\"Evolución del costo promedio de envío por tienda\")\n",
        "plt.xlabel(\"Tiendas\")\n",
        "plt.ylabel(\"Costo promedio de envío\")\n",
        "plt.grid(True, linestyle=\"--\", alpha=0.6)\n",
        "plt.tight_layout()\n",
        "plt.show()"
      ],
      "metadata": {
        "colab": {
          "base_uri": "https://localhost:8080/",
          "height": 507
        },
        "id": "5FTaCLu0Slhd",
        "outputId": "4c64ed70-a697-475a-de71-ed866778241b"
      },
      "execution_count": 123,
      "outputs": [
        {
          "output_type": "display_data",
          "data": {
            "text/plain": [
              "<Figure size 800x500 with 1 Axes>"
            ],
            "image/png": "[encoded data removed]"
          },
          "metadata": {}
        }
      ]
    },
    {
      "cell_type": "markdown",
      "source": [
        "# Informe Final\n"
      ],
      "metadata": {
        "id": "9zr0U2BSXcLc"
      }
    },
    {
      "cell_type": "markdown",
      "source": [
        "En base al analisis  realizado en las 4 tiendas hemos concluido lo siguiente:  \n",
        "\n",
        "* Al realizar un analisis de los datos  podemos identificar que la tienda 1 destaca por ser la mas rentable de las 4 tiendas, y la menos rentable a nivel de ingresos es la tienda 4.\n",
        "* Realinzao una analisis  en satifaccion de clientes la mejor evaluada es la tienda 3  y la peor la tienda 1.\n",
        "* Al revisar la venta por productos mas y menos vendidos las cantidades son similares, solo se diferencian por la categoria de producto.\n",
        "\n",
        "* Al revisar el costo de envio la tienda 1 es la que tiene los costos mas altos de las 4 tiendas y la tienda 4 es la que tiene el costo de envio mas bajos.\n",
        "\n",
        "\n",
        "\n",
        "\n",
        "### **Justificacion**\n",
        "\n",
        "Sr. Juan  debe vender la tienda numero 4, ya que al revisar la rentavilidad de los ingresos de esa tienda es la que tiene los ingreso mas bajos , si bien destaca por tener los costos mas baratos de las 4 tiendas, si comparamos con las otras tiendas  tienen mejor rentabilidad.\n",
        "\n",
        "en conclusion, la Tienda 4 es la tienda que debe vender ya que no alcanza el desempeño de las otras 3 tiendas."
      ],
      "metadata": {
        "id": "wDwilIFlakx4"
      }
    }
  ]
}